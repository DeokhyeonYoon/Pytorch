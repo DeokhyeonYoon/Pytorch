{
 "cells": [
  {
   "cell_type": "markdown",
   "metadata": {},
   "source": [
    "# Buld the Neural Network"
   ]
  },
  {
   "cell_type": "code",
   "execution_count": 2,
   "metadata": {},
   "outputs": [
    {
     "name": "stderr",
     "output_type": "stream",
     "text": [
      "/home/dbsejrgus226/miniconda3/lib/python3.8/site-packages/tqdm/auto.py:21: TqdmWarning: IProgress not found. Please update jupyter and ipywidgets. See https://ipywidgets.readthedocs.io/en/stable/user_install.html\n",
      "  from .autonotebook import tqdm as notebook_tqdm\n",
      "/home/dbsejrgus226/miniconda3/lib/python3.8/site-packages/torchvision/io/image.py:13: UserWarning: Failed to load image Python extension: '/home/dbsejrgus226/miniconda3/lib/python3.8/site-packages/torchvision/image.so: undefined symbol: _ZNK3c107SymBool10guard_boolEPKcl'If you don't plan on using image functionality from `torchvision.io`, you can ignore this warning. Otherwise, there might be something wrong with your environment. Did you have `libjpeg` or `libpng` installed before building `torchvision` from source?\n",
      "  warn(\n"
     ]
    }
   ],
   "source": [
    "import os\n",
    "import torch\n",
    "from torch import nn\n",
    "from torch.utils.data import DataLoader\n",
    "from torchvision import datasets, transforms"
   ]
  },
  {
   "cell_type": "markdown",
   "metadata": {},
   "source": [
    "## Get Device for Training\n"
   ]
  },
  {
   "cell_type": "code",
   "execution_count": 3,
   "metadata": {},
   "outputs": [
    {
     "name": "stdout",
     "output_type": "stream",
     "text": [
      "Using cpu device\n"
     ]
    }
   ],
   "source": [
    "device = ('cuda'\n",
    "          if torch.cuda.is_available()\n",
    "          else 'mps'\n",
    "          if torch.backends.mps.is_available()\n",
    "          else 'cpu')\n",
    "\n",
    "print(f\"Using {device} device\")"
   ]
  },
  {
   "cell_type": "markdown",
   "metadata": {},
   "source": [
    "## Define the Class\n",
    " - ``nn.Module``의 subclassing으로 neural network를 정의\n",
    " - ``__init``으로 신경망 layer 초기화"
   ]
  },
  {
   "cell_type": "code",
   "execution_count": 4,
   "metadata": {},
   "outputs": [],
   "source": [
    "class NeuralNetwork(nn.Module):\n",
    "    def __init__(self):\n",
    "        super().__init__()\n",
    "        self.flatten = nn.Flatten()\n",
    "        self.linear_relu_stack = nn.Sequential(\n",
    "            nn.Linear(28*28, 512),\n",
    "            nn.ReLU(),\n",
    "            nn.Linear(512, 512),\n",
    "            nn.ReLU(),\n",
    "            nn.Linear(512, 10),\n",
    "        )\n",
    "\n",
    "    def forward(self, x):\n",
    "        x = self.flatten(x)\n",
    "        logits = self.linear_relu_stack(x)\n",
    "        return logits"
   ]
  },
  {
   "cell_type": "code",
   "execution_count": 5,
   "metadata": {},
   "outputs": [
    {
     "name": "stdout",
     "output_type": "stream",
     "text": [
      "NeuralNetwork(\n",
      "  (flatten): Flatten(start_dim=1, end_dim=-1)\n",
      "  (linear_relu_stack): Sequential(\n",
      "    (0): Linear(in_features=784, out_features=512, bias=True)\n",
      "    (1): ReLU()\n",
      "    (2): Linear(in_features=512, out_features=512, bias=True)\n",
      "    (3): ReLU()\n",
      "    (4): Linear(in_features=512, out_features=10, bias=True)\n",
      "  )\n",
      ")\n"
     ]
    }
   ],
   "source": [
    "model = NeuralNetwork().to(device)\n",
    "print(model)"
   ]
  },
  {
   "cell_type": "code",
   "execution_count": 6,
   "metadata": {},
   "outputs": [
    {
     "name": "stdout",
     "output_type": "stream",
     "text": [
      "Predicted class: tensor([9])\n"
     ]
    }
   ],
   "source": [
    "X = torch.rand(1, 28, 28, device=device)\n",
    "logits = model(X)\n",
    "pred_probab = nn.Softmax(dim=1)(logits)\n",
    "y_pred = pred_probab.argmax(1)\n",
    "print(f\"Predicted class: {y_pred}\")"
   ]
  },
  {
   "cell_type": "markdown",
   "metadata": {},
   "source": [
    "## Model Layers\n"
   ]
  },
  {
   "cell_type": "code",
   "execution_count": 9,
   "metadata": {},
   "outputs": [
    {
     "name": "stdout",
     "output_type": "stream",
     "text": [
      "torch.Size([3, 28, 28])\n"
     ]
    }
   ],
   "source": [
    "input_image = torch.rand(3,28,28) # rand(3,28,28)이란 28x28 크기의 3개 이미지로 구성된 random image\n",
    "print(input_image.size())"
   ]
  },
  {
   "cell_type": "markdown",
   "metadata": {},
   "source": [
    "## nn.Flatten\n",
    "``nn.Flatten``으로 layer를 초기화하여 각 2d 28x28 이미지를 784 pixel 연속 배열로 변환"
   ]
  },
  {
   "cell_type": "code",
   "execution_count": 10,
   "metadata": {},
   "outputs": [
    {
     "name": "stdout",
     "output_type": "stream",
     "text": [
      "torch.Size([3, 784])\n"
     ]
    }
   ],
   "source": [
    "flatten = nn.Flatten()\n",
    "flat_image = flatten(input_image)\n",
    "print(flat_image.size())"
   ]
  },
  {
   "cell_type": "markdown",
   "metadata": {},
   "source": [
    "## nn.Linear\n",
    "``nn.Linear`` 저장된 가중치와 편향을 사용하여 input에 선형 변환을 적용하는 모듈"
   ]
  },
  {
   "cell_type": "code",
   "execution_count": 11,
   "metadata": {},
   "outputs": [
    {
     "name": "stdout",
     "output_type": "stream",
     "text": [
      "torch.Size([3, 20])\n"
     ]
    }
   ],
   "source": [
    "layer1 = nn.Linear(in_features=28*28, out_features=20)\n",
    "hidden1 = layer1(flat_image)\n",
    "print(hidden1.size())"
   ]
  },
  {
   "cell_type": "markdown",
   "metadata": {},
   "source": [
    "## nn.ReLU\n",
    " - 모델의 입력과 출력 사이 복잡한 mapping을 생성\n",
    " - nn.Linear(선형 변환) 후 nn.ReLU(비선형 도입)을 도입하여 신경망이 다양한 현상을 학습하는데 도움을 줌"
   ]
  },
  {
   "cell_type": "code",
   "execution_count": 12,
   "metadata": {},
   "outputs": [
    {
     "name": "stdout",
     "output_type": "stream",
     "text": [
      "Before ReLU: tensor([[-0.1890,  0.2172,  0.2929,  0.2679,  0.5812,  0.5988, -0.1270,  0.2728,\n",
      "         -0.0144, -0.2092,  0.6068, -0.0863,  0.2053,  0.0428, -0.0362, -0.1855,\n",
      "          0.4007, -0.1598, -0.0207, -0.0243],\n",
      "        [-0.3523,  0.3101,  0.1134,  0.3618,  0.4480,  0.2914,  0.1131, -0.0424,\n",
      "          0.2019, -0.1216,  0.4224, -0.5469, -0.1028, -0.1027, -0.2612, -0.3642,\n",
      "          0.5678, -0.0731, -0.0752,  0.4183],\n",
      "        [-0.3766,  0.0958, -0.0521,  0.2631,  0.5142,  0.6418,  0.2586,  0.2227,\n",
      "         -0.1698,  0.1417,  0.4597, -0.2390, -0.2436,  0.1399, -0.3703, -0.5377,\n",
      "          0.5746, -0.1733, -0.1355,  0.1572]], grad_fn=<AddmmBackward0>)\n",
      "\n",
      "\n",
      "After ReLU: tensor([[0.0000, 0.2172, 0.2929, 0.2679, 0.5812, 0.5988, 0.0000, 0.2728, 0.0000,\n",
      "         0.0000, 0.6068, 0.0000, 0.2053, 0.0428, 0.0000, 0.0000, 0.4007, 0.0000,\n",
      "         0.0000, 0.0000],\n",
      "        [0.0000, 0.3101, 0.1134, 0.3618, 0.4480, 0.2914, 0.1131, 0.0000, 0.2019,\n",
      "         0.0000, 0.4224, 0.0000, 0.0000, 0.0000, 0.0000, 0.0000, 0.5678, 0.0000,\n",
      "         0.0000, 0.4183],\n",
      "        [0.0000, 0.0958, 0.0000, 0.2631, 0.5142, 0.6418, 0.2586, 0.2227, 0.0000,\n",
      "         0.1417, 0.4597, 0.0000, 0.0000, 0.1399, 0.0000, 0.0000, 0.5746, 0.0000,\n",
      "         0.0000, 0.1572]], grad_fn=<ReluBackward0>)\n"
     ]
    }
   ],
   "source": [
    "print(f\"Before ReLU: {hidden1}\\n\\n\")\n",
    "hidden1 = nn.ReLU()(hidden1)\n",
    "print(f\"After ReLU: {hidden1}\")"
   ]
  },
  {
   "cell_type": "markdown",
   "metadata": {},
   "source": [
    "## nn.Squential\n",
    "``nn.Squential`` 은 정렬된 모듈의 컨테이너(container)\n",
    " - 데이터는 정의된 것과 동일한 순서로 모든 모듈을 통해 전달됨\n",
    " - sequential containers를 사용하여 ``seq_modules``와 같은 빠른 네트워크를 구성할 수 있음"
   ]
  },
  {
   "cell_type": "code",
   "execution_count": 13,
   "metadata": {},
   "outputs": [],
   "source": [
    "seq_modules = nn.Sequential(\n",
    "    flatten,\n",
    "    layer1,\n",
    "    nn.ReLU(),\n",
    "    nn.Linear(20, 10)\n",
    ")\n",
    "input_image = torch.rand(3,28,28)\n",
    "logits = seq_modules(input_image)"
   ]
  },
  {
   "cell_type": "markdown",
   "metadata": {},
   "source": [
    "## nn.Softmax\n",
    "neural network의 마지막 linear layer는 ``nn.Softmax`` 모듈에 전달되는 logits-raw values in [-infty, infty]-를 return\n",
    " - logits는 모델의 예측 확률을 나타내는 값 [0,1]로 조정됨\n",
    " - dim parameter는 값의 합이 1이 되어야하는 차원을 나타냄"
   ]
  },
  {
   "cell_type": "code",
   "execution_count": 14,
   "metadata": {},
   "outputs": [],
   "source": [
    "softmax = nn.Softmax(dim=1)\n",
    "pred_probab = softmax(logits)"
   ]
  },
  {
   "cell_type": "markdown",
   "metadata": {},
   "source": [
    "## Model Parameters\n",
    "신경망 내부의 많은 layer는 parameterized 되어 있음.\n",
    " - 즉, training 동안 weights and biases(가중치와 편향)을 가짐\n",
    " - ``nn.Module``을 subclassing 하면 모델 객체 내에 정의된 모든 필드를 자동으로 추적하고 모델의 model's parameter() 또는 named_pardmater() method를 사용하여 모든 매개변수에 access 할 수 있음"
   ]
  },
  {
   "cell_type": "code",
   "execution_count": 15,
   "metadata": {},
   "outputs": [
    {
     "name": "stdout",
     "output_type": "stream",
     "text": [
      "Model structure: NeuralNetwork(\n",
      "  (flatten): Flatten(start_dim=1, end_dim=-1)\n",
      "  (linear_relu_stack): Sequential(\n",
      "    (0): Linear(in_features=784, out_features=512, bias=True)\n",
      "    (1): ReLU()\n",
      "    (2): Linear(in_features=512, out_features=512, bias=True)\n",
      "    (3): ReLU()\n",
      "    (4): Linear(in_features=512, out_features=10, bias=True)\n",
      "  )\n",
      ")\n",
      "\n",
      "\n",
      "Layer: linear_relu_stack.0.weight | Size: torch.Size([512, 784]) | Values : tensor([[ 0.0130, -0.0125,  0.0077,  ..., -0.0082,  0.0039,  0.0091],\n",
      "        [-0.0159, -0.0053, -0.0130,  ..., -0.0245, -0.0237,  0.0223]],\n",
      "       grad_fn=<SliceBackward0>) \n",
      "\n",
      "Layer: linear_relu_stack.0.bias | Size: torch.Size([512]) | Values : tensor([-4.8978e-05, -2.9153e-03], grad_fn=<SliceBackward0>) \n",
      "\n",
      "Layer: linear_relu_stack.2.weight | Size: torch.Size([512, 512]) | Values : tensor([[-0.0004, -0.0341, -0.0005,  ..., -0.0185,  0.0428,  0.0409],\n",
      "        [-0.0341, -0.0068, -0.0069,  ..., -0.0032,  0.0102, -0.0248]],\n",
      "       grad_fn=<SliceBackward0>) \n",
      "\n",
      "Layer: linear_relu_stack.2.bias | Size: torch.Size([512]) | Values : tensor([ 0.0196, -0.0103], grad_fn=<SliceBackward0>) \n",
      "\n",
      "Layer: linear_relu_stack.4.weight | Size: torch.Size([10, 512]) | Values : tensor([[-0.0327, -0.0038,  0.0334,  ...,  0.0031,  0.0420,  0.0061],\n",
      "        [-0.0103, -0.0094,  0.0159,  ...,  0.0285,  0.0016, -0.0233]],\n",
      "       grad_fn=<SliceBackward0>) \n",
      "\n",
      "Layer: linear_relu_stack.4.bias | Size: torch.Size([10]) | Values : tensor([-0.0005, -0.0008], grad_fn=<SliceBackward0>) \n",
      "\n"
     ]
    }
   ],
   "source": [
    "print(f\"Model structure: {model}\\n\\n\")\n",
    "\n",
    "for name, param in model.named_parameters():\n",
    "    print(f\"Layer: {name} | Size: {param.size()} | Values : {param[:2]} \\n\")"
   ]
  },
  {
   "cell_type": "code",
   "execution_count": null,
   "metadata": {},
   "outputs": [],
   "source": []
  }
 ],
 "metadata": {
  "kernelspec": {
   "display_name": "base",
   "language": "python",
   "name": "python3"
  },
  "language_info": {
   "codemirror_mode": {
    "name": "ipython",
    "version": 3
   },
   "file_extension": ".py",
   "mimetype": "text/x-python",
   "name": "python",
   "nbconvert_exporter": "python",
   "pygments_lexer": "ipython3",
   "version": "3.8.18"
  }
 },
 "nbformat": 4,
 "nbformat_minor": 2
}
